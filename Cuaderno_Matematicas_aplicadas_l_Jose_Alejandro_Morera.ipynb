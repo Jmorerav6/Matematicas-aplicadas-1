{
  "nbformat": 4,
  "nbformat_minor": 0,
  "metadata": {
    "colab": {
      "provenance": [],
      "authorship_tag": "ABX9TyOAFeEwz9vIlSzsltV5WAEY",
      "include_colab_link": true
    },
    "kernelspec": {
      "name": "python3",
      "display_name": "Python 3"
    },
    "language_info": {
      "name": "python"
    }
  },
  "cells": [
    {
      "cell_type": "markdown",
      "metadata": {
        "id": "view-in-github",
        "colab_type": "text"
      },
      "source": [
        "<a href=\"https://colab.research.google.com/github/Jmorerav6/Matematicas-aplicadas-1/blob/main/Cuaderno_Matematicas_aplicadas_l_Jose_Alejandro_Morera.ipynb\" target=\"_parent\"><img src=\"https://colab.research.google.com/assets/colab-badge.svg\" alt=\"Open In Colab\"/></a>"
      ]
    },
    {
      "cell_type": "code",
      "source": [],
      "metadata": {
        "id": "Z-frJy8HyCY1"
      },
      "execution_count": null,
      "outputs": []
    },
    {
      "cell_type": "code",
      "source": [],
      "metadata": {
        "id": "caGX2IvSpeau"
      },
      "execution_count": null,
      "outputs": []
    },
    {
      "cell_type": "markdown",
      "source": [
        "\n"
      ],
      "metadata": {
        "id": "nDDzhXBByCl_"
      }
    },
    {
      "cell_type": "markdown",
      "source": [
        "1. Teorema de Pythagoras    $a^2+b^2=c^2$  Pythagoras,530BC\n",
        "2. Logaritmos   $log xy=log x+log y$  John Napier, 1610\n",
        "3. Calculo $\\frac{df}{dt} \\displaystyle \\lim_{ \\to 0}=\\frac{f(t+h)-f(t)}{h}$ Newton, 1168\n",
        "4.Ley de la gravedad $F=G\\frac{m_1m_2}{h}$ Newton, 1687\n",
        "5.Raiz cuadrada de menos uno $i^2=-1$ Euler,1750\n",
        "6.Formula de Euler polyhedra $V-E+F=2$ Euler, 1751\n",
        "7.Distribucion normal $\\Phi(x)=\\frac{1}{\\sqrt{2\\pi p}}c$ C.F. Gaus,1810\n",
        "8.Ecuaacion de la ola $\\frac{\\partial^2u}{\\partial t^2}=c^2\\frac{\\partial^2u}{\\partial x^2}$ J.d almbert, 1746\n",
        "9.Fourier Transform $f(w)\\int_{∞}^{\\infty} f(x)e^{-2\\pi ixw}dx$ J.Fourier, 1822\n",
        "10.Ecuacion de navier $p (\\frac{\\partial v }{\\partial t}+v\\cdot\\bigtriangledown v)-\\bigtriangledown p+\\bigtriangledown \\cdot T+f$ C.Navier, G.Stokes,1845\n",
        "11. Ecuacion de Maxwell $\\bigtriangledown \\cdot E=0$\n",
        "$\\bigtriangledown \\cdot = 0$\n",
        "$\\bigtriangledown \\times E= -\\frac {1}{c}\\frac {\\partial H}{\\partial T}$\n",
        "$\\bigtriangledown \\times H\\frac {1}{c}\\frac {\\partial E}{\\partial T}$ J.C. Maxwell, 1865\n",
        "12.Second Law of Thermodynamics $dS \\geq 0$  Boltzman, 1874\n",
        "13.Relatividad $E=mc^2$ Einstein, 1905\n",
        "14.ecuacion de Schrodinger $ih \\frac{\\partial}{\\partial t}\\Psi H=\\Psi $\n",
        "15.Teoria de  informacion $H=-\\sum P(x) log p(x)$\n",
        "16.chaos Theory $x_t+1=kx_1(1-x_t)$ Robert May , 1975\n",
        "17.Black scholes equation $\\frac {1}{2}a^2S^2 \\frac{\\partial^2v}{\\partial S^2}+rS\\frac {\\partial V}{\\partial S}+\\frac {\\partial V}{\\partial t}- rV=0$ F.Black , M.scholes, 1990\n",
        "\n"
      ],
      "metadata": {
        "id": "xElP8PzF3XAu"
      }
    },
    {
      "cell_type": "code",
      "source": [],
      "metadata": {
        "id": "SbIO6wAb458y"
      },
      "execution_count": null,
      "outputs": []
    }
  ]
}